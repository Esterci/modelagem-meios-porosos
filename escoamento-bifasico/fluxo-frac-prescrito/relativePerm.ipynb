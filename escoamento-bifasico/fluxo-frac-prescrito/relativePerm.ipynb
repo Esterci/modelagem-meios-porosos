{
 "cells": [
  {
   "cell_type": "code",
   "execution_count": 2,
   "metadata": {},
   "outputs": [],
   "source": [
    "import numpy as np \n",
    "import matplotlib.pyplot as plt\n"
   ]
  },
  {
   "cell_type": "code",
   "execution_count": 1,
   "metadata": {},
   "outputs": [],
   "source": [
    "Swc = 0.1\n",
    "Sor = 0.15\n",
    "krwMax = 0.5\n",
    "a = 8\n",
    "kroMax = 1\n",
    "b = 3\n",
    "mu_w = 1.0e-03\n",
    "mu_o = 1.0e-2\n",
    "K = 1e-12\n",
    "\n",
    "params = {\n",
    "    'fw_inj':0.8,\n",
    "    'Swc':0.1,\n",
    "    'Sor':0.15,\n",
    "    'krwMax':0.5,\n",
    "    'a':8,\n",
    "    'kroMax':1.0,\n",
    "    'b':3,\n",
    "    'muw': 1.0e-3,\n",
    "    'muo': 1.0e-2,\n",
    "    'K' : 1.0e-12\n",
    "}\n"
   ]
  },
  {
   "cell_type": "code",
   "execution_count": null,
   "metadata": {},
   "outputs": [],
   "source": [
    "\n",
    "def calc_Se(params,Sw):\n",
    "    Swc = params['Swc']\n",
    "    Sor = params['Sor']\n",
    "\n",
    "    return np.divide(Sw - Swc, 1-Sor - Swc)\n",
    "\n",
    "def calc_krw(params, Sw):\n",
    "    krwMax = params['krwMax']\n",
    "    a = params['a']\n",
    "\n",
    "    Se = calc_Se(params,Sw)\n",
    "\n",
    "    return krwMax * np.power(Se, a)\n",
    "\n",
    "def calc_kro(params, Sw):\n",
    "    kroMax = params['kroMax']\n",
    "    b = params['b']\n",
    "\n",
    "    Se = calc_Se(params,Sw)\n",
    "\n",
    "    return kroMax * np.power(1.0-Se, b)\n",
    "\n",
    "def calc_fw(params, Sw):\n",
    "    krw = calc_krw(params, Sw)\n",
    "    kro = calc_kro(params, Sw)\n",
    "\n",
    "    muw = params['muw']\n",
    "    muo = params['muo']\n",
    "\n",
    "    fw = (krw/muw) / (krw/muw + kro/muo)\n",
    "    return fw\n",
    "\n",
    "def func(x, params):\n",
    "    fw_inj = params['fw_inj']\n",
    "\n",
    "    mob_w = calc_krw(params, x) / params['muw']\n",
    "    mob_o = calc_kro(params, x) / params['muo']\n",
    "\n",
    "    return fw_inj - mob_w / (mob_w+mob_o)\n",
    "\n",
    "def relativeSw(Sw):\n",
    "    return (Sw - Swc) / (1.0 - Swc - Sor)\n",
    "\n",
    "def correct_krw(Sw):\n",
    "    return krwMax * (Sw)**a\n",
    "\n",
    "def correct_kro(Sw):\n",
    "    return kroMax * (1 - Sw)**b\n",
    "\n",
    "transmissibility = lambda K,krw,kro,mu_w,mu_o : K*((krw/mu_w)+(kro/mu_o))"
   ]
  },
  {
   "cell_type": "code",
   "execution_count": 12,
   "metadata": {},
   "outputs": [
    {
     "data": {
      "image/png": "[encoded data removed]",
      "text/plain": [
       "<Figure size 640x480 with 1 Axes>"
      ]
     },
     "metadata": {},
     "output_type": "display_data"
    }
   ],
   "source": [
    "Sw = np.linspace(Swc, (1-Sor),num=25,endpoint=True)\n",
    "\n",
    "Swr = relativeSw(Sw)\n",
    "kro = correct_kro(Swr)\n",
    "krw = correct_krw(Swr)\n",
    "\n",
    "plt.plot(Sw,kro,label=\"kro\")\n",
    "plt.plot(Sw,krw,label=\"krw\")\n",
    "plt.legend()\n",
    "plt.grid()\n",
    "plt.show()"
   ]
  },
  {
   "cell_type": "code",
   "execution_count": 13,
   "metadata": {},
   "outputs": [
    {
     "data": {
      "text/plain": [
       "1.3641401251953122e-10"
      ]
     },
     "execution_count": 13,
     "metadata": {},
     "output_type": "execute_result"
    }
   ],
   "source": [
    "Tr = transmissibility(K,correct_krw((1-Sor)),correct_kro((1-Sor)),mu_w,mu_o)\n",
    "Tr"
   ]
  },
  {
   "cell_type": "code",
   "execution_count": 14,
   "metadata": {},
   "outputs": [
    {
     "data": {
      "text/plain": [
       "73306.25216062932"
      ]
     },
     "execution_count": 14,
     "metadata": {},
     "output_type": "execute_result"
    }
   ],
   "source": [
    "Vt = 1e-5\n",
    "\n",
    "grad_p = Vt/Tr\n",
    "\n",
    "grad_p"
   ]
  },
  {
   "cell_type": "code",
   "execution_count": null,
   "metadata": {},
   "outputs": [],
   "source": [
    "Sw_in = 0.85\n",
    "\n",
    "# inlet\n",
    "ut_in = 1.0e-5\n",
    "\n",
    "K = params['K']\n",
    "alpha = K * (calc_krw(params,Sw_in)/params['muw'] + calc_kro(params,Sw_in)/params['muo'])\n",
    "gradP = ut_in / alpha"
   ]
  }
 ],
 "metadata": {
  "kernelspec": {
   "display_name": "base",
   "language": "python",
   "name": "python3"
  },
  "language_info": {
   "codemirror_mode": {
    "name": "ipython",
    "version": 3
   },
   "file_extension": ".py",
   "mimetype": "text/x-python",
   "name": "python",
   "nbconvert_exporter": "python",
   "pygments_lexer": "ipython3",
   "version": "3.10.9"
  },
  "orig_nbformat": 4
 },
 "nbformat": 4,
 "nbformat_minor": 2
}
